{
 "cells": [
  {
   "cell_type": "markdown",
   "id": "b86112c6",
   "metadata": {},
   "source": [
    "# Set Question"
   ]
  },
  {
   "cell_type": "code",
   "execution_count": null,
   "id": "01f38a3a",
   "metadata": {},
   "outputs": [
    {
     "name": "stdout",
     "output_type": "stream",
     "text": [
      "{1, 2, 3, 4}\n"
     ]
    }
   ],
   "source": [
    "# 1. Create a set from a list\n",
    "lst = [1, 2, 2, 3, 4]\n",
    "s = set(lst)\n",
    "print(s)  \n"
   ]
  },
  {
   "cell_type": "code",
   "execution_count": null,
   "id": "145b8431",
   "metadata": {},
   "outputs": [
    {
     "name": "stdout",
     "output_type": "stream",
     "text": [
      "{1, 2, 3, 4}\n"
     ]
    }
   ],
   "source": [
    "# 2. Add an element to a set\n",
    "s = {1, 2, 3}\n",
    "s.add(4)\n",
    "print(s)  \n"
   ]
  },
  {
   "cell_type": "code",
   "execution_count": null,
   "id": "4c7bfcbd",
   "metadata": {},
   "outputs": [
    {
     "name": "stdout",
     "output_type": "stream",
     "text": [
      "{1, 3, 4}\n"
     ]
    }
   ],
   "source": [
    "# 3. Remove an element from a set\n",
    "s.remove(2)\n",
    "print(s)  \n"
   ]
  },
  {
   "cell_type": "code",
   "execution_count": 4,
   "id": "cfefed28",
   "metadata": {},
   "outputs": [
    {
     "name": "stdout",
     "output_type": "stream",
     "text": [
      "{1, 3, 4}\n"
     ]
    }
   ],
   "source": [
    "# 4. Discard an element\n",
    "s.discard(10) \n",
    "print(s)\n"
   ]
  },
  {
   "cell_type": "code",
   "execution_count": 5,
   "id": "40c25d40",
   "metadata": {},
   "outputs": [
    {
     "name": "stdout",
     "output_type": "stream",
     "text": [
      "1 {3, 4}\n"
     ]
    }
   ],
   "source": [
    "# 5. Pop an element from set\n",
    "val = s.pop()\n",
    "print(val, s)  \n"
   ]
  },
  {
   "cell_type": "markdown",
   "id": "4aded601",
   "metadata": {},
   "source": [
    "Set Operations: Union, Intersection, etc."
   ]
  },
  {
   "cell_type": "code",
   "execution_count": 7,
   "id": "2f6b82b1",
   "metadata": {},
   "outputs": [
    {
     "name": "stdout",
     "output_type": "stream",
     "text": [
      "{1, 2, 3, 4, 5}\n"
     ]
    }
   ],
   "source": [
    "# 6. Set Union\n",
    "a = {1, 2, 3}\n",
    "b = {3, 4, 5}\n",
    "print(a | b) \n"
   ]
  },
  {
   "cell_type": "code",
   "execution_count": 9,
   "id": "c9b6b159",
   "metadata": {},
   "outputs": [
    {
     "name": "stdout",
     "output_type": "stream",
     "text": [
      "{3}\n"
     ]
    }
   ],
   "source": [
    "# 7. Set Intersection\n",
    "print(a & b) \n"
   ]
  },
  {
   "cell_type": "code",
   "execution_count": 10,
   "id": "d25cdffb",
   "metadata": {},
   "outputs": [
    {
     "name": "stdout",
     "output_type": "stream",
     "text": [
      "{1, 2}\n",
      "{4, 5}\n"
     ]
    }
   ],
   "source": [
    "# 8. Set Difference\n",
    "print(a - b)  \n",
    "print(b - a)  \n"
   ]
  },
  {
   "cell_type": "code",
   "execution_count": 11,
   "id": "7bf4f783",
   "metadata": {},
   "outputs": [
    {
     "name": "stdout",
     "output_type": "stream",
     "text": [
      "{1, 2, 4, 5}\n"
     ]
    }
   ],
   "source": [
    "# 9. Symmetric Difference (XOR)\n",
    "print(a ^ b)\n"
   ]
  },
  {
   "cell_type": "code",
   "execution_count": null,
   "id": "0e92a0ad",
   "metadata": {},
   "outputs": [
    {
     "name": "stdout",
     "output_type": "stream",
     "text": [
      "True\n"
     ]
    }
   ],
   "source": [
    "#10. Check if two sets are disjoint\n",
    "print(a.isdisjoint({6, 7}))  \n"
   ]
  },
  {
   "cell_type": "markdown",
   "id": "48a041a4",
   "metadata": {},
   "source": [
    "Set Use in Logic Problems"
   ]
  },
  {
   "cell_type": "code",
   "execution_count": 13,
   "id": "a2985cf1",
   "metadata": {},
   "outputs": [
    {
     "name": "stdout",
     "output_type": "stream",
     "text": [
      "[1, 2, 3]\n"
     ]
    }
   ],
   "source": [
    "# 11. Remove duplicates from list\n",
    "lst = [1, 1, 2, 3]\n",
    "print(list(set(lst)))  \n"
   ]
  },
  {
   "cell_type": "code",
   "execution_count": 14,
   "id": "afe05db5",
   "metadata": {},
   "outputs": [
    {
     "name": "stdout",
     "output_type": "stream",
     "text": [
      "{2, 3}\n"
     ]
    }
   ],
   "source": [
    "# 12. Find common elements in two lists\n",
    "l1 = [1, 2, 3]\n",
    "l2 = [2, 3, 4]\n",
    "print(set(l1) & set(l2)) \n"
   ]
  },
  {
   "cell_type": "code",
   "execution_count": 15,
   "id": "06c345c3",
   "metadata": {},
   "outputs": [
    {
     "name": "stdout",
     "output_type": "stream",
     "text": [
      "True\n"
     ]
    }
   ],
   "source": [
    "# 13. Check if one set is subset of another\n",
    "a = {1, 2}\n",
    "b = {1, 2, 3}\n",
    "print(a.issubset(b))  "
   ]
  },
  {
   "cell_type": "code",
   "execution_count": 16,
   "id": "4ef386c2",
   "metadata": {},
   "outputs": [
    {
     "name": "stdout",
     "output_type": "stream",
     "text": [
      "True\n"
     ]
    }
   ],
   "source": [
    "# 14. Check if one set is superset of another\n",
    "print(b.issuperset(a))\n"
   ]
  },
  {
   "cell_type": "code",
   "execution_count": 17,
   "id": "db6808b4",
   "metadata": {},
   "outputs": [
    {
     "name": "stdout",
     "output_type": "stream",
     "text": [
      "{'a', 'b', 'n'}\n"
     ]
    }
   ],
   "source": [
    "# 15. Convert string to set of characters\n",
    "s = set(\"banana\")\n",
    "print(s)  \n"
   ]
  },
  {
   "cell_type": "code",
   "execution_count": 18,
   "id": "90bca963",
   "metadata": {},
   "outputs": [
    {
     "name": "stdout",
     "output_type": "stream",
     "text": [
      "{'a', 'o', 'e', 'u', 'i'}\n"
     ]
    }
   ],
   "source": [
    "# 16. Find unique vowels in a string\n",
    "s = \"education\"\n",
    "vowels = set(\"aeiou\")\n",
    "print(set(s) & vowels)  \n",
    "\n"
   ]
  },
  {
   "cell_type": "code",
   "execution_count": null,
   "id": "d7c206c1",
   "metadata": {},
   "outputs": [
    {
     "name": "stdout",
     "output_type": "stream",
     "text": [
      "5\n"
     ]
    }
   ],
   "source": [
    "# 17. Count unique words in a sentence\n",
    "sentence = \"this is a test this is only a test\"\n",
    "unique = set(sentence.split())\n",
    "print(len(unique)) \n",
    "\n"
   ]
  },
  {
   "cell_type": "code",
   "execution_count": 20,
   "id": "032c47fa",
   "metadata": {},
   "outputs": [
    {
     "name": "stdout",
     "output_type": "stream",
     "text": [
      "4\n",
      "3\n"
     ]
    }
   ],
   "source": [
    "# 18. Difference between set and list\n",
    "print(len([1, 2, 2, 3]))      \n",
    "print(len(set([1, 2, 2, 3]))) \n"
   ]
  },
  {
   "cell_type": "code",
   "execution_count": 21,
   "id": "c73c2a17",
   "metadata": {},
   "outputs": [
    {
     "name": "stdout",
     "output_type": "stream",
     "text": [
      "{1}\n"
     ]
    }
   ],
   "source": [
    "# 19. Find items in one list not in another\n",
    "l1 = [1, 2, 3]\n",
    "l2 = [2, 3, 4]\n",
    "print(set(l1) - set(l2))\n"
   ]
  },
  {
   "cell_type": "code",
   "execution_count": 22,
   "id": "564e59de",
   "metadata": {},
   "outputs": [
    {
     "name": "stdout",
     "output_type": "stream",
     "text": [
      "{2, 4}\n"
     ]
    }
   ],
   "source": [
    "# 20. Find all duplicates in a list\n",
    "lst = [1, 2, 2, 3, 4, 4]\n",
    "seen = set()\n",
    "dups = set(x for x in lst if x in seen or seen.add(x))\n",
    "print(dups)  \n"
   ]
  },
  {
   "cell_type": "code",
   "execution_count": 23,
   "id": "1eadd892",
   "metadata": {},
   "outputs": [
    {
     "name": "stdout",
     "output_type": "stream",
     "text": [
      "{1, 3}\n"
     ]
    }
   ],
   "source": [
    "# 21. Develop a code that prompts the user to input two sets of strings. Then, print the elements that are \n",
    "#present in the first set but not in the second set\n",
    "def set_difference(s1, s2):\n",
    "    return set(s1) - set(s2)\n",
    "\n",
    "print(set_difference({1, 2, 3}, {2, 4}))  \n"
   ]
  },
  {
   "cell_type": "code",
   "execution_count": 24,
   "id": "ac85640e",
   "metadata": {},
   "outputs": [
    {
     "name": "stdout",
     "output_type": "stream",
     "text": [
      "{1, 2, 3}\n"
     ]
    }
   ],
   "source": [
    "# 22.  Write a code that prompts the user to input two sets of characters. Then, print the union of these two sets\n",
    "def set_union(s1, s2):\n",
    "    return set(s1) | set(s2)\n",
    "\n",
    "print(set_union({1, 2}, {2, 3}))  "
   ]
  },
  {
   "cell_type": "code",
   "execution_count": 25,
   "id": "7cc6ee26",
   "metadata": {},
   "outputs": [
    {
     "name": "stdout",
     "output_type": "stream",
     "text": [
      "({1, 2, 3, 4}, {2, 3}, {1})\n"
     ]
    }
   ],
   "source": [
    "#23.  Create a code that defines two sets of integers. Then, print the union, intersection, and difference of these \n",
    "#two sets\n",
    "def set_operations(s1, s2):\n",
    "    return s1 | s2, s1 & s2, s1 - s2\n",
    "\n",
    "print(set_operations({1,2,3}, {2,3,4}))  \n"
   ]
  },
  {
   "cell_type": "code",
   "execution_count": 26,
   "id": "543c4cc8",
   "metadata": {},
   "outputs": [
    {
     "name": "stdout",
     "output_type": "stream",
     "text": [
      "{1, 4}\n"
     ]
    }
   ],
   "source": [
    "#24. Develop a code that prompts the user to input two sets of strings. Then, print the symmetric difference of \n",
    "#these two sets\n",
    "def symmetric_diff(s1, s2):\n",
    "    return s1 ^ s2\n",
    "\n",
    "print(symmetric_diff({1,2,3}, {2,3,4}))  \n"
   ]
  },
  {
   "cell_type": "code",
   "execution_count": null,
   "id": "c9cde9b6",
   "metadata": {},
   "outputs": [],
   "source": []
  }
 ],
 "metadata": {
  "kernelspec": {
   "display_name": "Python 3",
   "language": "python",
   "name": "python3"
  },
  "language_info": {
   "codemirror_mode": {
    "name": "ipython",
    "version": 3
   },
   "file_extension": ".py",
   "mimetype": "text/x-python",
   "name": "python",
   "nbconvert_exporter": "python",
   "pygments_lexer": "ipython3",
   "version": "3.12.2"
  }
 },
 "nbformat": 4,
 "nbformat_minor": 5
}
