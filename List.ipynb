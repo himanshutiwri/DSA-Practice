{
 "cells": [
  {
   "cell_type": "markdown",
   "id": "27c6771d",
   "metadata": {},
   "source": [
    "# List practice question"
   ]
  },
  {
   "cell_type": "code",
   "execution_count": 1,
   "id": "3b916095",
   "metadata": {},
   "outputs": [
    {
     "name": "stdout",
     "output_type": "stream",
     "text": [
      "[1, 2, 3, 4, 5, 6, 7, 8, 9, 10]\n"
     ]
    }
   ],
   "source": [
    "#1. Create a list of numbers from 1 to 10\n",
    "print(list(range(1, 11)))\n"
   ]
  },
  {
   "cell_type": "code",
   "execution_count": 2,
   "id": "705bad62",
   "metadata": {},
   "outputs": [
    {
     "name": "stdout",
     "output_type": "stream",
     "text": [
      "[5, 4, 3, 2, 1]\n"
     ]
    }
   ],
   "source": [
    "#2. Reverse a list without using reverse()\n",
    "lst = [1, 2, 3, 4, 5]\n",
    "print(lst[::-1])\n"
   ]
  },
  {
   "cell_type": "code",
   "execution_count": 3,
   "id": "555a4ecf",
   "metadata": {},
   "outputs": [
    {
     "name": "stdout",
     "output_type": "stream",
     "text": [
      "7 1\n"
     ]
    }
   ],
   "source": [
    "#3. Find max and min in a list\n",
    "nums = [3, 1, 7, 2]\n",
    "print(max(nums), min(nums))\n"
   ]
  },
  {
   "cell_type": "code",
   "execution_count": 4,
   "id": "d380886b",
   "metadata": {},
   "outputs": [
    {
     "name": "stdout",
     "output_type": "stream",
     "text": [
      "[1, 2, 3, 4]\n"
     ]
    }
   ],
   "source": [
    "#4. Remove duplicates from a list\n",
    "lst = [1, 2, 2, 3, 4, 4]\n",
    "print(list(set(lst)))\n"
   ]
  },
  {
   "cell_type": "code",
   "execution_count": 5,
   "id": "eff9e66e",
   "metadata": {},
   "outputs": [
    {
     "name": "stdout",
     "output_type": "stream",
     "text": [
      "[1, 2, 3, 4]\n"
     ]
    }
   ],
   "source": [
    "#5. Flatten a nested list\n",
    "nested = [[1, 2], [3, 4]]\n",
    "flat = [item for sublist in nested for item in sublist]\n",
    "print(flat)\n"
   ]
  },
  {
   "cell_type": "code",
   "execution_count": 6,
   "id": "efc4efbe",
   "metadata": {},
   "outputs": [
    {
     "name": "stdout",
     "output_type": "stream",
     "text": [
      "10\n"
     ]
    }
   ],
   "source": [
    "#6. Find sum of all elements\n",
    "print(sum([1, 2, 3, 4]))\n"
   ]
  },
  {
   "cell_type": "code",
   "execution_count": 7,
   "id": "e48182bc",
   "metadata": {},
   "outputs": [
    {
     "name": "stdout",
     "output_type": "stream",
     "text": [
      "[2, 4, 6]\n"
     ]
    }
   ],
   "source": [
    "#7. Filter even numbers using list comprehension\n",
    "nums = [1, 2, 3, 4, 5, 6]\n",
    "evens = [x for x in nums if x % 2 == 0]\n",
    "print(evens)\n"
   ]
  },
  {
   "cell_type": "code",
   "execution_count": 8,
   "id": "45c0462f",
   "metadata": {},
   "outputs": [
    {
     "name": "stdout",
     "output_type": "stream",
     "text": [
      "[1, 4, 9, 16, 25, 36]\n"
     ]
    }
   ],
   "source": [
    "#8. Find squares of numbers\n",
    "squares = [x**2 for x in nums]\n",
    "print(squares)\n"
   ]
  },
  {
   "cell_type": "code",
   "execution_count": 9,
   "id": "e5a2ba7d",
   "metadata": {},
   "outputs": [
    {
     "name": "stdout",
     "output_type": "stream",
     "text": [
      "2\n"
     ]
    }
   ],
   "source": [
    "#9. Count occurrences of an element\n",
    "lst = [1, 2, 3, 2, 1]\n",
    "print(lst.count(2))\n"
   ]
  },
  {
   "cell_type": "code",
   "execution_count": 10,
   "id": "7f6c0879",
   "metadata": {},
   "outputs": [
    {
     "name": "stdout",
     "output_type": "stream",
     "text": [
      "[2, 3]\n"
     ]
    }
   ],
   "source": [
    "#10. Find common elements in two lists\n",
    "a = [1, 2, 3]\n",
    "b = [2, 3, 4]\n",
    "print([x for x in a if x in b])\n"
   ]
  },
  {
   "cell_type": "markdown",
   "id": "8b44ffa5",
   "metadata": {},
   "source": [
    "# 🧠 Intermediate Logic with Lists"
   ]
  },
  {
   "cell_type": "code",
   "execution_count": 11,
   "id": "15ebcc9f",
   "metadata": {},
   "outputs": [
    {
     "name": "stdout",
     "output_type": "stream",
     "text": [
      "True\n"
     ]
    }
   ],
   "source": [
    "#11. Check if a list is palindrome\n",
    "lst = [1, 2, 3, 2, 1]\n",
    "print(lst == lst[::-1])\n",
    "\n"
   ]
  },
  {
   "cell_type": "code",
   "execution_count": 12,
   "id": "99678bef",
   "metadata": {},
   "outputs": [
    {
     "name": "stdout",
     "output_type": "stream",
     "text": [
      "[0, 2, 0, 4]\n"
     ]
    }
   ],
   "source": [
    "#12. Replace negative numbers with 0\n",
    "nums = [-1, 2, -3, 4]\n",
    "print([0 if x < 0 else x for x in nums])\n"
   ]
  },
  {
   "cell_type": "code",
   "execution_count": 14,
   "id": "fbe6abbc",
   "metadata": {},
   "outputs": [
    {
     "name": "stdout",
     "output_type": "stream",
     "text": [
      "[2, 4]\n"
     ]
    }
   ],
   "source": [
    "#13. Get all positive numbers\n",
    "nums = [-1, 2, -3, 4]\n",
    "print([x for x in nums if x > 0])\n"
   ]
  },
  {
   "cell_type": "code",
   "execution_count": 15,
   "id": "f80587c6",
   "metadata": {},
   "outputs": [
    {
     "name": "stdout",
     "output_type": "stream",
     "text": [
      "[('a', 1), ('b', 2)]\n"
     ]
    }
   ],
   "source": [
    "#14. Pair elements from two lists\n",
    "a = ['a', 'b']\n",
    "b = [1, 2]\n",
    "print(list(zip(a, b)))\n"
   ]
  },
  {
   "cell_type": "code",
   "execution_count": 16,
   "id": "8c0fca0d",
   "metadata": {},
   "outputs": [
    {
     "name": "stdout",
     "output_type": "stream",
     "text": [
      "[2, 4] [1, 3]\n"
     ]
    }
   ],
   "source": [
    "#15. Separate even and odd numbers\n",
    "nums = [1, 2, 3, 4]\n",
    "even = [x for x in nums if x % 2 == 0]\n",
    "odd = [x for x in nums if x % 2 != 0]\n",
    "print(even, odd)\n"
   ]
  },
  {
   "cell_type": "code",
   "execution_count": 17,
   "id": "c2fbe226",
   "metadata": {},
   "outputs": [
    {
     "name": "stdout",
     "output_type": "stream",
     "text": [
      "45\n"
     ]
    }
   ],
   "source": [
    "#16. Find second largest number\n",
    "nums = [10, 20, 4, 45, 99]\n",
    "print(sorted(set(nums))[-2])\n"
   ]
  },
  {
   "cell_type": "code",
   "execution_count": 18,
   "id": "a77fa165",
   "metadata": {},
   "outputs": [
    {
     "name": "stdout",
     "output_type": "stream",
     "text": [
      "[1, 2]\n"
     ]
    }
   ],
   "source": [
    "#17. Remove None values\n",
    "lst = [1, None, 2, None]\n",
    "print([x for x in lst if x is not None])\n"
   ]
  },
  {
   "cell_type": "code",
   "execution_count": 19,
   "id": "0631b706",
   "metadata": {},
   "outputs": [
    {
     "name": "stdout",
     "output_type": "stream",
     "text": [
      "[1, 2, 3]\n"
     ]
    }
   ],
   "source": [
    "#18. Get unique elements in same order\n",
    "lst = [1, 2, 2, 3, 1]\n",
    "seen = set()\n",
    "print([x for x in lst if not (x in seen or seen.add(x))])\n"
   ]
  },
  {
   "cell_type": "code",
   "execution_count": 20,
   "id": "2462d576",
   "metadata": {},
   "outputs": [
    {
     "name": "stdout",
     "output_type": "stream",
     "text": [
      "24\n"
     ]
    }
   ],
   "source": [
    "#19. Product of all elements\n",
    "from functools import reduce\n",
    "print(reduce(lambda x, y: x * y, [1, 2, 3, 4]))\n"
   ]
  },
  {
   "cell_type": "code",
   "execution_count": 21,
   "id": "2cccf041",
   "metadata": {},
   "outputs": [
    {
     "name": "stdout",
     "output_type": "stream",
     "text": [
      "2\n"
     ]
    }
   ],
   "source": [
    "#20. Index of maximum element\n",
    "lst = [10, 20, 50, 40]\n",
    "print(lst.index(max(lst)))\n"
   ]
  },
  {
   "cell_type": "markdown",
   "id": "b0eeffbb",
   "metadata": {},
   "source": [
    "# 🔁 List Comprehension Heavy"
   ]
  },
  {
   "cell_type": "code",
   "execution_count": 22,
   "id": "faf1adeb",
   "metadata": {},
   "outputs": [
    {
     "name": "stdout",
     "output_type": "stream",
     "text": [
      "[2, 4, 6]\n"
     ]
    }
   ],
   "source": [
    "#21. Double every element\n",
    "nums = [1, 2, 3]\n",
    "print([x*2 for x in nums])\n"
   ]
  },
  {
   "cell_type": "code",
   "execution_count": 23,
   "id": "8baf1a20",
   "metadata": {},
   "outputs": [
    {
     "name": "stdout",
     "output_type": "stream",
     "text": [
      "[1, 2, 3, 4, 5]\n"
     ]
    }
   ],
   "source": [
    "#22. Extract digits from numbers\n",
    "nums = [123, 45]\n",
    "print([int(d) for num in nums for d in str(num)])\n"
   ]
  },
  {
   "cell_type": "code",
   "execution_count": 24,
   "id": "8c3ff64a",
   "metadata": {},
   "outputs": [
    {
     "name": "stdout",
     "output_type": "stream",
     "text": [
      "[97, 98]\n"
     ]
    }
   ],
   "source": [
    "#23. ASCII values of characters\n",
    "chars = ['a', 'b']\n",
    "print([ord(c) for c in chars])\n"
   ]
  },
  {
   "cell_type": "code",
   "execution_count": 25,
   "id": "85c7079b",
   "metadata": {},
   "outputs": [
    {
     "name": "stdout",
     "output_type": "stream",
     "text": [
      "['hello', 'world']\n"
     ]
    }
   ],
   "source": [
    "#24. Filter strings of length > 3\n",
    "words = ['hi', 'hello', 'world']\n",
    "print([w for w in words if len(w) > 3])\n"
   ]
  },
  {
   "cell_type": "code",
   "execution_count": 26,
   "id": "4c583175",
   "metadata": {},
   "outputs": [
    {
     "name": "stdout",
     "output_type": "stream",
     "text": [
      "['Hi', 'Hello', 'World']\n"
     ]
    }
   ],
   "source": [
    "#25. Capitalize each word\n",
    "print([w.capitalize() for w in words])\n"
   ]
  },
  {
   "cell_type": "code",
   "execution_count": 27,
   "id": "4b614cc4",
   "metadata": {},
   "outputs": [
    {
     "name": "stdout",
     "output_type": "stream",
     "text": [
      "[1, 2]\n"
     ]
    }
   ],
   "source": [
    "#26. Convert strings to integers\n",
    "nums = ['1', '2']\n",
    "print([int(x) for x in nums])\n"
   ]
  },
  {
   "cell_type": "code",
   "execution_count": 28,
   "id": "a227d02d",
   "metadata": {},
   "outputs": [
    {
     "name": "stdout",
     "output_type": "stream",
     "text": [
      "['cba', 'zyx']\n"
     ]
    }
   ],
   "source": [
    "#27. Reverse each string\n",
    "words = ['abc', 'xyz']\n",
    "print([w[::-1] for w in words])\n"
   ]
  },
  {
   "cell_type": "code",
   "execution_count": 29,
   "id": "ce957e57",
   "metadata": {},
   "outputs": [
    {
     "name": "stdout",
     "output_type": "stream",
     "text": [
      "['banana']\n"
     ]
    }
   ],
   "source": [
    "#28. Find common words\n",
    "a = ['apple', 'banana']\n",
    "b = ['banana', 'cherry']\n",
    "print([w for w in a if w in b])\n"
   ]
  },
  {
   "cell_type": "code",
   "execution_count": 30,
   "id": "b442ce5a",
   "metadata": {},
   "outputs": [
    {
     "name": "stdout",
     "output_type": "stream",
     "text": [
      "['a', 'b']\n"
     ]
    }
   ],
   "source": [
    "#29. Remove empty strings\n",
    "lst = ['a', '', 'b']\n",
    "print([x for x in lst if x])\n"
   ]
  },
  {
   "cell_type": "code",
   "execution_count": 31,
   "id": "7eb537e6",
   "metadata": {},
   "outputs": [
    {
     "name": "stdout",
     "output_type": "stream",
     "text": [
      "['[1, 2]', '[3, 4]']\n"
     ]
    }
   ],
   "source": [
    "#30. Convert nested list to string format\n",
    "lst = [[1, 2], [3, 4]]\n",
    "print([str(x) for x in lst])\n"
   ]
  },
  {
   "cell_type": "markdown",
   "id": "6e42ceb4",
   "metadata": {},
   "source": [
    "# 💡 Applied List Questions"
   ]
  },
  {
   "cell_type": "code",
   "execution_count": 32,
   "id": "173b0b85",
   "metadata": {},
   "outputs": [
    {
     "name": "stdout",
     "output_type": "stream",
     "text": [
      "3\n"
     ]
    }
   ],
   "source": [
    "#31. Count words in a sentence\n",
    "sentence = 'hello world python'\n",
    "print(len(sentence.split()))\n"
   ]
  },
  {
   "cell_type": "code",
   "execution_count": 33,
   "id": "3ee05cd3",
   "metadata": {},
   "outputs": [
    {
     "name": "stdout",
     "output_type": "stream",
     "text": [
      "[5, 7, 9]\n"
     ]
    }
   ],
   "source": [
    "#32. Add corresponding elements\n",
    "a = [1, 2, 3]\n",
    "b = [4, 5, 6]\n",
    "print([x + y for x, y in zip(a, b)])\n"
   ]
  },
  {
   "cell_type": "code",
   "execution_count": 34,
   "id": "c16d1a0b",
   "metadata": {},
   "outputs": [
    {
     "name": "stdout",
     "output_type": "stream",
     "text": [
      "[2, 3, 5, 7]\n"
     ]
    }
   ],
   "source": [
    "#33. Filter prime numbers\n",
    "nums = [2, 3, 4, 5, 6, 7]\n",
    "print([x for x in nums if all(x % d != 0 for d in range(2, int(x**0.5)+1))])\n"
   ]
  },
  {
   "cell_type": "code",
   "execution_count": 35,
   "id": "deeecbaf",
   "metadata": {},
   "outputs": [
    {
     "name": "stdout",
     "output_type": "stream",
     "text": [
      "[4, 1, 2, 3]\n"
     ]
    }
   ],
   "source": [
    "#34. Rotate list right by 1\n",
    "lst = [1, 2, 3, 4]\n",
    "print([lst[-1]] + lst[:-1])\n"
   ]
  },
  {
   "cell_type": "code",
   "execution_count": 36,
   "id": "699c601a",
   "metadata": {},
   "outputs": [
    {
     "name": "stdout",
     "output_type": "stream",
     "text": [
      "True\n"
     ]
    }
   ],
   "source": [
    "#35. Check uniqueness\n",
    "lst = [1, 2, 3]\n",
    "print(len(lst) == len(set(lst)))\n"
   ]
  },
  {
   "cell_type": "code",
   "execution_count": 37,
   "id": "803b1320",
   "metadata": {},
   "outputs": [
    {
     "name": "stdout",
     "output_type": "stream",
     "text": [
      "True\n"
     ]
    }
   ],
   "source": [
    "#36. Check if all elements are same\n",
    "lst = [2, 2, 2]\n",
    "print(all(x == lst[0] for x in lst))\n"
   ]
  },
  {
   "cell_type": "code",
   "execution_count": 39,
   "id": "7486ad71",
   "metadata": {},
   "outputs": [
    {
     "name": "stdout",
     "output_type": "stream",
     "text": [
      "2 2\n"
     ]
    }
   ],
   "source": [
    "#37. Count even and odd numbers\n",
    "nums = [1, 2, 3, 4]\n",
    "print(sum(1 for x in nums if x % 2 == 0), sum(1 for x in nums if x % 2 != 0))\n"
   ]
  },
  {
   "cell_type": "code",
   "execution_count": 40,
   "id": "142067c4",
   "metadata": {},
   "outputs": [
    {
     "name": "stdout",
     "output_type": "stream",
     "text": [
      "[[1], [1, 2], [1, 2, 3], [2], [2, 3], [3]]\n"
     ]
    }
   ],
   "source": [
    "#38. All sublists of a list\n",
    "lst = [1, 2, 3]\n",
    "print([lst[i:j+1] for i in range(len(lst)) for j in range(i, len(lst))])\n"
   ]
  },
  {
   "cell_type": "code",
   "execution_count": 41,
   "id": "93f32fdc",
   "metadata": {},
   "outputs": [
    {
     "name": "stdout",
     "output_type": "stream",
     "text": [
      "[5, 3]\n"
     ]
    }
   ],
   "source": [
    "#39. Remove elements > 10\n",
    "lst = [5, 11, 3, 15]\n",
    "print([x for x in lst if x <= 10])\n"
   ]
  },
  {
   "cell_type": "code",
   "execution_count": 42,
   "id": "d48f6073",
   "metadata": {},
   "outputs": [
    {
     "name": "stdout",
     "output_type": "stream",
     "text": [
      "3\n"
     ]
    }
   ],
   "source": [
    "#40. Find second smallest\n",
    "lst = [4, 1, 7, 1, 3]\n",
    "unique = sorted(set(lst))\n",
    "print(unique[1] if len(unique) > 1 else \"No second smallest\")\n"
   ]
  },
  {
   "cell_type": "code",
   "execution_count": 43,
   "id": "bb9f532b",
   "metadata": {},
   "outputs": [
    {
     "name": "stdout",
     "output_type": "stream",
     "text": [
      "[1, 3]\n"
     ]
    }
   ],
   "source": [
    "#41.  Write a code to remove all occurrences of a specific element from a list\n",
    "def remove_occurrences(lst, val):\n",
    "    return [x for x in lst if x != val]\n",
    "\n",
    "print(remove_occurrences([1, 2, 2, 3, 2], 2))  \n",
    "\n"
   ]
  },
  {
   "cell_type": "code",
   "execution_count": 44,
   "id": "7c944b5e",
   "metadata": {},
   "outputs": [
    {
     "name": "stdout",
     "output_type": "stream",
     "text": [
      "45\n"
     ]
    }
   ],
   "source": [
    "#42.  Implement a code to find the second largest number in a given list of integers\n",
    "def second_largest(lst):\n",
    "    return sorted(set(lst))[-2]\n",
    "\n",
    "print(second_largest([10, 20, 4, 45, 99]))  "
   ]
  },
  {
   "cell_type": "code",
   "execution_count": 45,
   "id": "ea27411c",
   "metadata": {},
   "outputs": [
    {
     "name": "stdout",
     "output_type": "stream",
     "text": [
      "{1: 2, 2: 2, 3: 1}\n"
     ]
    }
   ],
   "source": [
    "#43.Create a code to count the occurrences of each element in a list and return a dictionary with elements as \n",
    "#keys and their counts as values\n",
    "def count_elements(lst):\n",
    "    return {x: lst.count(x) for x in set(lst)}\n",
    "\n",
    "print(count_elements([1, 2, 2, 3, 1]))  \n"
   ]
  },
  {
   "cell_type": "code",
   "execution_count": 46,
   "id": "36174985",
   "metadata": {},
   "outputs": [
    {
     "name": "stdout",
     "output_type": "stream",
     "text": [
      "[4, 3, 2, 1]\n"
     ]
    }
   ],
   "source": [
    "#44  Write a code to reverse a list in-place without using any built-in reverse functions\n",
    "def reverse_list(lst):\n",
    "    for i in range(len(lst)//2):\n",
    "        lst[i], lst[-i-1] = lst[-i-1], lst[i]\n",
    "    return lst\n",
    "\n",
    "print(reverse_list([1, 2, 3, 4]))  "
   ]
  },
  {
   "cell_type": "code",
   "execution_count": 47,
   "id": "77eef058",
   "metadata": {},
   "outputs": [
    {
     "name": "stdout",
     "output_type": "stream",
     "text": [
      "[1, 2, 3]\n"
     ]
    }
   ],
   "source": [
    "#45.  Implement a code to find and remove duplicates from a list while preserving the original order of \n",
    "#element\n",
    "def remove_duplicates(lst):\n",
    "    seen, res = set(), []\n",
    "    for x in lst:\n",
    "        if x not in seen:\n",
    "            seen.add(x)\n",
    "            res.append(x)\n",
    "    return res\n",
    "\n",
    "print(remove_duplicates([1, 2, 2, 3, 1]))  \n",
    "\n",
    "\n"
   ]
  },
  {
   "cell_type": "code",
   "execution_count": null,
   "id": "d4aa1352",
   "metadata": {},
   "outputs": [
    {
     "name": "stdout",
     "output_type": "stream",
     "text": [
      "True\n"
     ]
    }
   ],
   "source": [
    "#46 Create a code to check if a given list is sorted (either in ascending or descending order) or not\n",
    "def is_sorted(lst):\n",
    "    return lst == sorted(lst) or lst == sorted(lst, reverse=True)\n",
    "\n",
    "print(is_sorted([1, 2, 3]))  \n"
   ]
  },
  {
   "cell_type": "code",
   "execution_count": 49,
   "id": "cf1804cf",
   "metadata": {},
   "outputs": [
    {
     "name": "stdout",
     "output_type": "stream",
     "text": [
      "[1, 2, 3, 4, 5, 6]\n"
     ]
    }
   ],
   "source": [
    "#47  Write a code to merge two sorted lists into a single sorted list\n",
    "def merge_sorted(l1, l2):\n",
    "    return sorted(l1 + l2)\n",
    "\n",
    "print(merge_sorted([1, 3, 5], [2, 4, 6]))  \n"
   ]
  },
  {
   "cell_type": "code",
   "execution_count": 50,
   "id": "2fc3f1ce",
   "metadata": {},
   "outputs": [
    {
     "name": "stdout",
     "output_type": "stream",
     "text": [
      "[2, 3]\n"
     ]
    }
   ],
   "source": [
    "#48.  Implement a code to find the intersection of two given lists\n",
    "def intersection(l1, l2):\n",
    "    return list(set(l1) & set(l2))\n",
    "\n",
    "print(intersection([1, 2, 3], [2, 3, 4]))  \n"
   ]
  },
  {
   "cell_type": "code",
   "execution_count": 51,
   "id": "0bda7cf8",
   "metadata": {},
   "outputs": [
    {
     "name": "stdout",
     "output_type": "stream",
     "text": [
      "[1, 2, 3, 4, 5]\n"
     ]
    }
   ],
   "source": [
    "#49. Create a code to find the union of two lists without duplicates\n",
    "def union(l1, l2):\n",
    "    return list(set(l1) | set(l2))\n",
    "\n",
    "print(union([1, 2, 3], [3, 4, 5]))  \n"
   ]
  },
  {
   "cell_type": "code",
   "execution_count": 52,
   "id": "01196992",
   "metadata": {},
   "outputs": [
    {
     "name": "stdout",
     "output_type": "stream",
     "text": [
      "[1, 2, 3, 4, 5]\n"
     ]
    }
   ],
   "source": [
    "#50. Write a code to shuffle a given list randomly without using any built-in shuffle functions\n",
    "def union(l1, l2):\n",
    "    return list(set(l1) | set(l2))\n",
    "\n",
    "print(union([1, 2, 3], [3, 4, 5]))  "
   ]
  },
  {
   "cell_type": "code",
   "execution_count": 53,
   "id": "827b24ae",
   "metadata": {},
   "outputs": [
    {
     "name": "stdout",
     "output_type": "stream",
     "text": [
      "(2, 3)\n"
     ]
    }
   ],
   "source": [
    "#51.  Write a code that takes two tuples as input and returns a new tuple containing elements that are \n",
    "#common to both input tuple\n",
    "def tuple_intersection(t1, t2):\n",
    "    return tuple(set(t1) & set(t2))\n",
    "\n",
    "print(tuple_intersection((1,2,3), (2,3,4)))  \n",
    "\n"
   ]
  },
  {
   "cell_type": "code",
   "execution_count": 54,
   "id": "a6beb86d",
   "metadata": {},
   "outputs": [
    {
     "name": "stdout",
     "output_type": "stream",
     "text": [
      "{2, 3}\n"
     ]
    }
   ],
   "source": [
    "#52  Create a code that prompts the user to enter two sets of integers separated by commas. Then, print the \n",
    "#intersection of these two set\n",
    "def set_intersection(s1, s2):\n",
    "    return set(s1) & set(s2)\n",
    "\n",
    "print(set_intersection({1, 2, 3}, {2, 3, 4}))  \n",
    "\n"
   ]
  },
  {
   "cell_type": "code",
   "execution_count": 55,
   "id": "efe6bd0d",
   "metadata": {},
   "outputs": [
    {
     "name": "stdout",
     "output_type": "stream",
     "text": [
      "(1, 2, 3, 4)\n"
     ]
    }
   ],
   "source": [
    "#53. Write a code to concatenate two tuples. The function should take two tuples as input and return a new \n",
    "#tuple containing elements from both input tuples\n",
    "def concat_tuples(t1, t2):\n",
    "    return t1 + t2\n",
    "\n",
    "print(concat_tuples((1, 2), (3, 4)))  \n"
   ]
  },
  {
   "cell_type": "code",
   "execution_count": 56,
   "id": "1f62324f",
   "metadata": {},
   "outputs": [
    {
     "name": "stdout",
     "output_type": "stream",
     "text": [
      "(20, 30, 40)\n"
     ]
    }
   ],
   "source": [
    "#54  Create a code that takes a tuple and two integers as input. The function should return a new tuple \n",
    "#containing elements from the original tuple within the specified range of indice\n",
    "def tuple_range(t, start, end):\n",
    "    return t[start:end]\n",
    "\n",
    "print(tuple_range((10, 20, 30, 40, 50), 1, 4))  \n"
   ]
  },
  {
   "cell_type": "code",
   "execution_count": 57,
   "id": "67c927b8",
   "metadata": {},
   "outputs": [
    {
     "name": "stdout",
     "output_type": "stream",
     "text": [
      "(3, 10)\n"
     ]
    }
   ],
   "source": [
    "#55. Develop a code that takes a tuple of integers as input. The function should return the maximum and \n",
    "#minimum values from the tuple using tuple unpacking\n",
    "def tuple_min_max(t):\n",
    "    return min(t), max(t)\n",
    "\n",
    "print(tuple_min_max((5, 10, 3, 8)))  "
   ]
  },
  {
   "cell_type": "code",
   "execution_count": 58,
   "id": "2a73e6ff",
   "metadata": {},
   "outputs": [
    {
     "name": "stdout",
     "output_type": "stream",
     "text": [
      "3\n"
     ]
    }
   ],
   "source": [
    "#56.Write a code that takes a tuple and an element as input. The function should return the count of \n",
    "#occurrences of the given element in the tuples\n",
    "def tuple_count(t, val):\n",
    "    return t.count(val)\n",
    "\n",
    "print(tuple_count((1,2,2,3,2), 2))  \n"
   ]
  },
  {
   "cell_type": "code",
   "execution_count": null,
   "id": "2e69ebc2",
   "metadata": {},
   "outputs": [],
   "source": []
  }
 ],
 "metadata": {
  "kernelspec": {
   "display_name": "Python 3",
   "language": "python",
   "name": "python3"
  },
  "language_info": {
   "codemirror_mode": {
    "name": "ipython",
    "version": 3
   },
   "file_extension": ".py",
   "mimetype": "text/x-python",
   "name": "python",
   "nbconvert_exporter": "python",
   "pygments_lexer": "ipython3",
   "version": "3.12.2"
  }
 },
 "nbformat": 4,
 "nbformat_minor": 5
}
