{
 "cells": [
  {
   "cell_type": "markdown",
   "id": "a40a0bbb",
   "metadata": {},
   "source": [
    "# String Coding Questions Practice\n",
    "\n",
    "🔹 Section 1: Basic String"
   ]
  },
  {
   "cell_type": "code",
   "execution_count": null,
   "id": "b1a749ed",
   "metadata": {},
   "outputs": [
    {
     "name": "stdout",
     "output_type": "stream",
     "text": [
      "True\n"
     ]
    }
   ],
   "source": [
    "# 1. Check if a string is a palindrome\n",
    "def is_palindrome(s):\n",
    "    return s==s[::-1]\n",
    "print(is_palindrome('racecar'))"
   ]
  },
  {
   "cell_type": "code",
   "execution_count": 5,
   "id": "09d1396c",
   "metadata": {},
   "outputs": [
    {
     "name": "stdout",
     "output_type": "stream",
     "text": [
      "olleh\n"
     ]
    }
   ],
   "source": [
    "# 2. Reverse a string\n",
    "def Reverse_string(s):\n",
    "    return s[::-1]\n",
    "print(Reverse_string('hello'))\n"
   ]
  },
  {
   "cell_type": "code",
   "execution_count": 7,
   "id": "64320937",
   "metadata": {},
   "outputs": [
    {
     "name": "stdout",
     "output_type": "stream",
     "text": [
      "1\n"
     ]
    }
   ],
   "source": [
    "#3. Count vowels in a string\n",
    "def count_vowel(s):\n",
    "    return sum(1 for ch in s.lower() if ch in 'aeiou')\n",
    "print(count_vowel('python'))"
   ]
  },
  {
   "cell_type": "code",
   "execution_count": 8,
   "id": "5198a517",
   "metadata": {},
   "outputs": [
    {
     "name": "stdout",
     "output_type": "stream",
     "text": [
      "Hello World\n"
     ]
    }
   ],
   "source": [
    "#4. Convert string to title case\n",
    "def to_title_case(s):\n",
    "    return s.title()\n",
    "print(to_title_case('hello world'))"
   ]
  },
  {
   "cell_type": "code",
   "execution_count": 9,
   "id": "21fa79bb",
   "metadata": {},
   "outputs": [
    {
     "name": "stdout",
     "output_type": "stream",
     "text": [
      "4\n"
     ]
    }
   ],
   "source": [
    "#5. Count the number of words in a string\n",
    "def word_count(s):\n",
    "    return len(s.split())\n",
    "print(word_count('i love data science'))"
   ]
  },
  {
   "cell_type": "code",
   "execution_count": 10,
   "id": "60df3cc2",
   "metadata": {},
   "outputs": [
    {
     "name": "stdout",
     "output_type": "stream",
     "text": [
      "removeallspaces\n"
     ]
    }
   ],
   "source": [
    "#6. Remove all white spaces\n",
    "def remove_spaces(s):\n",
    "    return s.replace(' ','')\n",
    "print(remove_spaces('remove all spaces'))"
   ]
  },
  {
   "cell_type": "code",
   "execution_count": 11,
   "id": "e73e92eb",
   "metadata": {},
   "outputs": [
    {
     "name": "stdout",
     "output_type": "stream",
     "text": [
      "pyth#n\n"
     ]
    }
   ],
   "source": [
    "#7. Replace vowels with '#'\n",
    "def replace_vowel(s):\n",
    "    return ''.join('#' if ch in 'aeiouAEIOU' else ch for ch in s)\n",
    "print(replace_vowel('python'))"
   ]
  },
  {
   "cell_type": "code",
   "execution_count": 12,
   "id": "ad7aea04",
   "metadata": {},
   "outputs": [
    {
     "name": "stdout",
     "output_type": "stream",
     "text": [
      "HellO WorlD\n"
     ]
    }
   ],
   "source": [
    "#8. Capitalize first and last letter of each word\n",
    "def cap_first_last(s):\n",
    "    words = s.split()\n",
    "    result = []\n",
    "    for word in words:\n",
    "        if len(word) == 1:\n",
    "            result.append(word.upper())\n",
    "        else:\n",
    "            result.append(word[0].upper() + word[1:-1] + word[-1].upper())\n",
    "    return ' '.join(result)\n",
    "\n",
    "print(cap_first_last(\"hello world\")) \n"
   ]
  },
  {
   "cell_type": "markdown",
   "id": "13a4bea1",
   "metadata": {},
   "source": [
    "# Section 2: DSA-Oriented String Questions"
   ]
  },
  {
   "cell_type": "code",
   "execution_count": 15,
   "id": "828ececf",
   "metadata": {},
   "outputs": [
    {
     "name": "stdout",
     "output_type": "stream",
     "text": [
      "True\n"
     ]
    }
   ],
   "source": [
    "#9. Check if two strings are anagrams\n",
    "def is_anagram(s1, s2):\n",
    "    return sorted(s1) == sorted(s2)\n",
    "\n",
    "print(is_anagram(\"listen\", \"silent\"))  \n"
   ]
  },
  {
   "cell_type": "code",
   "execution_count": 16,
   "id": "cf20f970",
   "metadata": {},
   "outputs": [
    {
     "name": "stdout",
     "output_type": "stream",
     "text": [
      "i\n"
     ]
    }
   ],
   "source": [
    "# 10. Find the most frequent character\n",
    "from collections import Counter\n",
    "\n",
    "def most_freq_char(s):\n",
    "    return Counter(s).most_common(1)[0][0]\n",
    "\n",
    "print(most_freq_char(\"mississippi\")) \n"
   ]
  },
  {
   "cell_type": "code",
   "execution_count": 17,
   "id": "5024273b",
   "metadata": {},
   "outputs": [
    {
     "name": "stdout",
     "output_type": "stream",
     "text": [
      "ban\n"
     ]
    }
   ],
   "source": [
    "# 11. Remove all duplicates from a string\n",
    "def remove_duplicates(s):\n",
    "    seen = set()\n",
    "    result = ''\n",
    "    for ch in s:\n",
    "        if ch not in seen:\n",
    "            result += ch\n",
    "            seen.add(ch)\n",
    "    return result\n",
    "\n",
    "print(remove_duplicates(\"banana\")) \n",
    "\n"
   ]
  },
  {
   "cell_type": "code",
   "execution_count": 18,
   "id": "98564f39",
   "metadata": {},
   "outputs": [
    {
     "name": "stdout",
     "output_type": "stream",
     "text": [
      "{'a': 2, 'b': 3, 'c': 1}\n"
     ]
    }
   ],
   "source": [
    "#12. Count character frequency\n",
    "from collections import Counter\n",
    "\n",
    "def char_frequency(s):\n",
    "    return dict(Counter(s))\n",
    "\n",
    "print(char_frequency(\"aabbbc\")) \n"
   ]
  },
  {
   "cell_type": "code",
   "execution_count": 19,
   "id": "a7f66bdf",
   "metadata": {},
   "outputs": [
    {
     "name": "stdout",
     "output_type": "stream",
     "text": [
      "True\n"
     ]
    }
   ],
   "source": [
    "#13. Check if string has all unique characters\n",
    "def is_unique(s):\n",
    "    return len(set(s)) == len(s)\n",
    "\n",
    "print(is_unique(\"python\")) \n"
   ]
  },
  {
   "cell_type": "code",
   "execution_count": 20,
   "id": "98c8e3ef",
   "metadata": {},
   "outputs": [
    {
     "name": "stdout",
     "output_type": "stream",
     "text": [
      "science\n"
     ]
    }
   ],
   "source": [
    "#14. Longest word in a sentence\n",
    "def longest_word(s):\n",
    "    words = s.split()\n",
    "    return max(words, key=len)\n",
    "\n",
    "print(longest_word(\"I love data science\"))\n"
   ]
  },
  {
   "cell_type": "code",
   "execution_count": 21,
   "id": "6ba36997",
   "metadata": {},
   "outputs": [
    {
     "name": "stdout",
     "output_type": "stream",
     "text": [
      "c\n"
     ]
    }
   ],
   "source": [
    "#15. Find first non-repeating character\n",
    "from collections import Counter\n",
    "\n",
    "def first_unique_char(s):\n",
    "    freq = Counter(s)\n",
    "    for ch in s:\n",
    "        if freq[ch] == 1:\n",
    "            return ch\n",
    "    return None\n",
    "\n",
    "print(first_unique_char(\"aabbcddde\")) \n"
   ]
  },
  {
   "cell_type": "code",
   "execution_count": 22,
   "id": "f93d5f24",
   "metadata": {},
   "outputs": [
    {
     "name": "stdout",
     "output_type": "stream",
     "text": [
      "True\n"
     ]
    }
   ],
   "source": [
    "#16. Check if string is a valid identifier\n",
    "def is_identifier(s):\n",
    "    return s.isidentifier()\n",
    "\n",
    "print(is_identifier(\"data123\"))\n"
   ]
  },
  {
   "cell_type": "code",
   "execution_count": 23,
   "id": "8df4a628",
   "metadata": {},
   "outputs": [
    {
     "name": "stdout",
     "output_type": "stream",
     "text": [
      "True\n"
     ]
    }
   ],
   "source": [
    "#17. Check if one string is a rotation of another\n",
    "def is_rotation(s1, s2):\n",
    "    return len(s1) == len(s2) and s2 in s1 + s1\n",
    "\n",
    "print(is_rotation(\"abcde\", \"cdeab\"))  # True\n"
   ]
  },
  {
   "cell_type": "code",
   "execution_count": 24,
   "id": "37d9e75b",
   "metadata": {},
   "outputs": [
    {
     "name": "stdout",
     "output_type": "stream",
     "text": [
      "['a', 'ab', 'abc', 'b', 'bc', 'c']\n"
     ]
    }
   ],
   "source": [
    "#18. Find all substrings of a string\n",
    "def all_substrings(s):\n",
    "    return [s[i:j+1] for i in range(len(s)) for j in range(i, len(s))]\n",
    "\n",
    "print(all_substrings(\"abc\"))\n"
   ]
  },
  {
   "cell_type": "code",
   "execution_count": 26,
   "id": "ab686d63",
   "metadata": {},
   "outputs": [
    {
     "name": "stdout",
     "output_type": "stream",
     "text": [
      "bab\n"
     ]
    }
   ],
   "source": [
    "#19. Find longest palindromic substring\n",
    "def longest_palindrome(s):\n",
    "    n = len(s)\n",
    "    res = \"\"\n",
    "    for i in range(n):\n",
    "        for j in range(i, n):\n",
    "            substr = s[i:j+1]\n",
    "            if substr == substr[::-1] and len(substr) > len(res):\n",
    "                res = substr\n",
    "    return res\n",
    "\n",
    "print(longest_palindrome(\"babad\"))  \n"
   ]
  },
  {
   "cell_type": "code",
   "execution_count": 27,
   "id": "a344a68a",
   "metadata": {},
   "outputs": [
    {
     "name": "stdout",
     "output_type": "stream",
     "text": [
      "True\n"
     ]
    }
   ],
   "source": [
    "#20. Check if string is binary\n",
    "def is_binary(s):\n",
    "    return all(ch in '01' for ch in s)\n",
    "\n",
    "print(is_binary(\"101010\"))  \n"
   ]
  },
  {
   "cell_type": "code",
   "execution_count": 28,
   "id": "5340b9e9",
   "metadata": {},
   "outputs": [
    {
     "name": "stdout",
     "output_type": "stream",
     "text": [
      "hEllO\n"
     ]
    }
   ],
   "source": [
    "# 21. Swap case without built-in swapcase\n",
    "def manual_swapcase(s):\n",
    "    return ''.join(ch.upper() if ch.islower() else ch.lower() for ch in s)\n",
    "\n",
    "print(manual_swapcase(\"HeLLo\"))  \n"
   ]
  },
  {
   "cell_type": "code",
   "execution_count": 29,
   "id": "14726eae",
   "metadata": {},
   "outputs": [
    {
     "name": "stdout",
     "output_type": "stream",
     "text": [
      "fl\n"
     ]
    }
   ],
   "source": [
    "#22. Find the longest common prefix\n",
    "def longest_common_prefix(strs):\n",
    "    if not strs: return \"\"\n",
    "    prefix = strs[0]\n",
    "    for s in strs[1:]:\n",
    "        while s[:len(prefix)] != prefix:\n",
    "            prefix = prefix[:-1]\n",
    "    return prefix\n",
    "\n",
    "print(longest_common_prefix([\"flower\", \"flow\", \"flight\"]))\n"
   ]
  },
  {
   "cell_type": "code",
   "execution_count": 30,
   "id": "76fbede4",
   "metadata": {},
   "outputs": [
    {
     "name": "stdout",
     "output_type": "stream",
     "text": [
      "a2b1c5a3\n"
     ]
    }
   ],
   "source": [
    "#23. Compress a string: aabcccccaaa → a2b1c5a3\n",
    "def compress_string(s):\n",
    "    res = \"\"\n",
    "    i = 0\n",
    "    while i < len(s):\n",
    "        count = 1\n",
    "        while i+1 < len(s) and s[i] == s[i+1]:\n",
    "            i += 1\n",
    "            count += 1\n",
    "        res += s[i] + str(count)\n",
    "        i += 1\n",
    "    return res\n",
    "\n",
    "print(compress_string(\"aabcccccaaa\"))  \n"
   ]
  },
  {
   "cell_type": "code",
   "execution_count": 31,
   "id": "973b23f7",
   "metadata": {},
   "outputs": [
    {
     "name": "stdout",
     "output_type": "stream",
     "text": [
      "True\n"
     ]
    }
   ],
   "source": [
    "#24. Check if string is subsequence\n",
    "def is_subsequence(s, t):\n",
    "    it = iter(t)\n",
    "    return all(c in it for c in s)\n",
    "\n",
    "print(is_subsequence(\"abc\", \"ahbgdc\")) \n"
   ]
  },
  {
   "cell_type": "code",
   "execution_count": 32,
   "id": "21d22d95",
   "metadata": {},
   "outputs": [
    {
     "name": "stdout",
     "output_type": "stream",
     "text": [
      "['abc', 'acb', 'bac', 'bca', 'cab', 'cba']\n"
     ]
    }
   ],
   "source": [
    "#25. Find all permutations of a string (basic backtracking)\n",
    "from itertools import permutations\n",
    "\n",
    "def string_permutations(s):\n",
    "    return [''.join(p) for p in permutations(s)]\n",
    "\n",
    "print(string_permutations(\"abc\"))  \n"
   ]
  },
  {
   "cell_type": "code",
   "execution_count": 33,
   "id": "66672e96",
   "metadata": {},
   "outputs": [
    {
     "name": "stdout",
     "output_type": "stream",
     "text": [
      "fun is Science Data\n"
     ]
    }
   ],
   "source": [
    "#26. Reverse words in a sentence\n",
    "def reverse_words(s):\n",
    "    return ' '.join(s.split()[::-1])\n",
    "\n",
    "print(reverse_words(\"Data Science is fun\"))\n"
   ]
  },
  {
   "cell_type": "code",
   "execution_count": 34,
   "id": "e66aa1ff",
   "metadata": {},
   "outputs": [
    {
     "name": "stdout",
     "output_type": "stream",
     "text": [
      "True\n"
     ]
    }
   ],
   "source": [
    "# 27. Check if all characters are same\n",
    "def all_same(s):\n",
    "    return all(ch == s[0] for ch in s)\n",
    "\n",
    "print(all_same(\"aaaa\")) \n"
   ]
  },
  {
   "cell_type": "code",
   "execution_count": null,
   "id": "63d55597",
   "metadata": {},
   "outputs": [
    {
     "name": "stdout",
     "output_type": "stream",
     "text": [
      "a3b2c1\n"
     ]
    }
   ],
   "source": [
    "#28. Encode string with run-length encoding (RLE)\n",
    "def run_length_encoding(s):\n",
    "    res = ''\n",
    "    i = 0\n",
    "    while i < len(s):\n",
    "        count = 1\n",
    "        while i+1 < len(s) and s[i] == s[i+1]:\n",
    "            count += 1\n",
    "            i += 1\n",
    "        res += s[i] + str(count)\n",
    "        i += 1\n",
    "    return res\n",
    "\n",
    "print(run_length_encoding(\"aaabbc\"))\n",
    "\n"
   ]
  },
  {
   "cell_type": "code",
   "execution_count": null,
   "id": "9ea00ddb",
   "metadata": {},
   "outputs": [
    {
     "name": "stdout",
     "output_type": "stream",
     "text": [
      "3\n"
     ]
    }
   ],
   "source": [
    "#29 Given a string s, find the length of the longest substring without repeating characters.\n",
    "def length_of_longest_substring(s):\n",
    "    seen = set()\n",
    "    left = 0\n",
    "    max_len = 0\n",
    "\n",
    "    for right in range(len(s)):\n",
    "        while s[right] in seen:\n",
    "            seen.remove(s[left])\n",
    "            left += 1\n",
    "        seen.add(s[right])\n",
    "        max_len = max(max_len, right - left + 1)\n",
    "    \n",
    "    return max_len\n",
    "\n",
    "print(length_of_longest_substring(\"abcabcbb\"))  \n"
   ]
  },
  {
   "cell_type": "code",
   "execution_count": 37,
   "id": "3fae1b77",
   "metadata": {},
   "outputs": [
    {
     "name": "stdout",
     "output_type": "stream",
     "text": [
      "[['eat', 'tea', 'ate'], ['tan', 'nat'], ['bat']]\n"
     ]
    }
   ],
   "source": [
    "# 30 Group strings that are anagrams of each other.\n",
    "from collections import defaultdict\n",
    "\n",
    "def group_anagrams(words):\n",
    "    anagrams = defaultdict(list)\n",
    "    for word in words:\n",
    "        key = ''.join(sorted(word))\n",
    "        anagrams[key].append(word)\n",
    "    return list(anagrams.values())\n",
    "\n",
    "print(group_anagrams([\"eat\", \"tea\", \"tan\", \"ate\", \"nat\", \"bat\"]))\n"
   ]
  },
  {
   "cell_type": "code",
   "execution_count": null,
   "id": "9c432e44",
   "metadata": {},
   "outputs": [
    {
     "name": "stdout",
     "output_type": "stream",
     "text": [
      "[1, 3]\n"
     ]
    }
   ],
   "source": [
    "# 31.Write a code to find all occurrences of a given substring within another string\n",
    "def find_occurrences(s, sub):\n",
    "    return [i for i in range(len(s)) if s.startswith(sub, i)]\n",
    "\n",
    "print(find_occurrences(\"banana\", \"ana\"))  \n",
    "\n"
   ]
  },
  {
   "cell_type": "code",
   "execution_count": null,
   "id": "4fc8cfec",
   "metadata": {},
   "outputs": [
    {
     "name": "stdout",
     "output_type": "stream",
     "text": [
      "DataScience\n"
     ]
    }
   ],
   "source": [
    "# 32.  Write a code to concatenate two strings without using the + operator\n",
    "def concat_strings(s1, s2):\n",
    "    return \"{}{}\".format(s1, s2)\n",
    "\n",
    "print(concat_strings(\"Data\", \"Science\"))  \n",
    "\n",
    "\n"
   ]
  },
  {
   "cell_type": "code",
   "execution_count": null,
   "id": "2f4bd95c",
   "metadata": {},
   "outputs": [],
   "source": []
  }
 ],
 "metadata": {
  "kernelspec": {
   "display_name": "Python 3",
   "language": "python",
   "name": "python3"
  },
  "language_info": {
   "codemirror_mode": {
    "name": "ipython",
    "version": 3
   },
   "file_extension": ".py",
   "mimetype": "text/x-python",
   "name": "python",
   "nbconvert_exporter": "python",
   "pygments_lexer": "ipython3",
   "version": "3.12.2"
  }
 },
 "nbformat": 4,
 "nbformat_minor": 5
}
