{
 "cells": [
  {
   "cell_type": "markdown",
   "id": "4075edc7",
   "metadata": {},
   "source": [
    "# Dictionary Questions"
   ]
  },
  {
   "cell_type": "code",
   "execution_count": 1,
   "id": "18347a64",
   "metadata": {},
   "outputs": [
    {
     "name": "stdout",
     "output_type": "stream",
     "text": [
      "{1: 1, 2: 4, 3: 9, 4: 16, 5: 25}\n"
     ]
    }
   ],
   "source": [
    "#1. Create a dictionary of squares from 1 to 5\n",
    "squares = {x: x*x for x in range(1, 6)}\n",
    "print(squares)\n",
    "\n"
   ]
  },
  {
   "cell_type": "code",
   "execution_count": 2,
   "id": "2cccb3e0",
   "metadata": {},
   "outputs": [
    {
     "name": "stdout",
     "output_type": "stream",
     "text": [
      "10\n"
     ]
    }
   ],
   "source": [
    "#2. Access value by key\n",
    "d = {'a': 10, 'b': 20}\n",
    "print(d['a'])\n"
   ]
  },
  {
   "cell_type": "code",
   "execution_count": 3,
   "id": "3fb7bd3c",
   "metadata": {},
   "outputs": [
    {
     "name": "stdout",
     "output_type": "stream",
     "text": [
      "{'a': 10, 'b': 20, 'c': 30}\n"
     ]
    }
   ],
   "source": [
    "#3. Add a new key-value pair\n",
    "d['c'] = 30\n",
    "print(d)\n"
   ]
  },
  {
   "cell_type": "code",
   "execution_count": 4,
   "id": "1fcbf439",
   "metadata": {},
   "outputs": [
    {
     "name": "stdout",
     "output_type": "stream",
     "text": [
      "{'a': 100, 'b': 20, 'c': 30}\n"
     ]
    }
   ],
   "source": [
    "#4. Update an existing key’s value\n",
    "d['a'] = 100\n",
    "print(d)\n"
   ]
  },
  {
   "cell_type": "code",
   "execution_count": 5,
   "id": "9e6ed4d9",
   "metadata": {},
   "outputs": [
    {
     "name": "stdout",
     "output_type": "stream",
     "text": [
      "{'a': 100, 'c': 30}\n"
     ]
    }
   ],
   "source": [
    "#5. Delete a key from dictionary\n",
    "del d['b']\n",
    "print(d)\n"
   ]
  },
  {
   "cell_type": "code",
   "execution_count": 6,
   "id": "59ef0626",
   "metadata": {},
   "outputs": [
    {
     "name": "stdout",
     "output_type": "stream",
     "text": [
      "dict_keys(['a', 'c'])\n",
      "dict_values([100, 30])\n"
     ]
    }
   ],
   "source": [
    "#6. Get all keys and values\n",
    "print(d.keys())     # dict_keys(['a', 'c'])\n",
    "print(d.values())   # dict_values([100, 30])\n"
   ]
  },
  {
   "cell_type": "code",
   "execution_count": 7,
   "id": "8222ad13",
   "metadata": {},
   "outputs": [
    {
     "name": "stdout",
     "output_type": "stream",
     "text": [
      "True\n"
     ]
    }
   ],
   "source": [
    "#7. Check if a key exists\n",
    "print('a' in d)  # True\n"
   ]
  },
  {
   "cell_type": "code",
   "execution_count": 8,
   "id": "36bc5d04",
   "metadata": {},
   "outputs": [
    {
     "name": "stdout",
     "output_type": "stream",
     "text": [
      "0\n"
     ]
    }
   ],
   "source": [
    "#8. Get value with default using get()\n",
    "print(d.get('x', 0))  # 0\n"
   ]
  },
  {
   "cell_type": "code",
   "execution_count": 9,
   "id": "939ca05b",
   "metadata": {},
   "outputs": [
    {
     "name": "stdout",
     "output_type": "stream",
     "text": [
      "{'b': 1, 'a': 3, 'n': 2}\n"
     ]
    }
   ],
   "source": [
    "#9. Count character frequency in a string\n",
    "s = 'banana'\n",
    "freq = {}\n",
    "for ch in s:\n",
    "    freq[ch] = freq.get(ch, 0) + 1\n",
    "print(freq)\n",
    "\n"
   ]
  },
  {
   "cell_type": "code",
   "execution_count": 10,
   "id": "06f132ef",
   "metadata": {},
   "outputs": [
    {
     "name": "stdout",
     "output_type": "stream",
     "text": [
      "{'a': 1, 'b': 2}\n"
     ]
    }
   ],
   "source": [
    "#10. Merge two dictionaries\n",
    "d1 = {'a': 1}\n",
    "d2 = {'b': 2}\n",
    "d1.update(d2)\n",
    "print(d1)\n"
   ]
  },
  {
   "cell_type": "markdown",
   "id": "66f77a12",
   "metadata": {},
   "source": [
    "#  Dictionary Comprehension & Logic"
   ]
  },
  {
   "cell_type": "code",
   "execution_count": 11,
   "id": "93484aa2",
   "metadata": {},
   "outputs": [
    {
     "name": "stdout",
     "output_type": "stream",
     "text": [
      "{1: 1, 2: 8, 3: 27, 4: 64, 5: 125}\n"
     ]
    }
   ],
   "source": [
    "#11. Create a dict of numbers and their cubes (1–5)\n",
    "print({x: x**3 for x in range(1, 6)})\n"
   ]
  },
  {
   "cell_type": "code",
   "execution_count": 12,
   "id": "8fb82dbe",
   "metadata": {},
   "outputs": [
    {
     "name": "stdout",
     "output_type": "stream",
     "text": [
      "{'b': 3, 'c': 5}\n"
     ]
    }
   ],
   "source": [
    "#12. Filter dictionary: keep items where value > 2\n",
    "d = {'a': 1, 'b': 3, 'c': 5}\n",
    "filtered = {k: v for k, v in d.items() if v > 2}\n",
    "print(filtered)\n"
   ]
  },
  {
   "cell_type": "code",
   "execution_count": 13,
   "id": "f732a14a",
   "metadata": {},
   "outputs": [
    {
     "name": "stdout",
     "output_type": "stream",
     "text": [
      "{1: 'a', 2: 'b'}\n"
     ]
    }
   ],
   "source": [
    "#13. Swap keys and values\n",
    "d = {'a': 1, 'b': 2}\n",
    "swapped = {v: k for k, v in d.items()}\n",
    "print(swapped)\n"
   ]
  },
  {
   "cell_type": "code",
   "execution_count": 14,
   "id": "37071729",
   "metadata": {},
   "outputs": [
    {
     "name": "stdout",
     "output_type": "stream",
     "text": [
      "{'a': 2, 'b': 4}\n"
     ]
    }
   ],
   "source": [
    "#14. Double all values in dictionary\n",
    "doubled = {k: v * 2 for k, v in d.items()}\n",
    "print(doubled)\n"
   ]
  },
  {
   "cell_type": "code",
   "execution_count": 15,
   "id": "f5a980ab",
   "metadata": {},
   "outputs": [
    {
     "name": "stdout",
     "output_type": "stream",
     "text": [
      "{'hello': 2, 'world': 1}\n"
     ]
    }
   ],
   "source": [
    "#15. Count word frequency in a sentence\n",
    "sentence = 'hello hello world'\n",
    "words = sentence.split()\n",
    "freq = {word: words.count(word) for word in words}\n",
    "print(freq)\n"
   ]
  },
  {
   "cell_type": "markdown",
   "id": "9c698c01",
   "metadata": {},
   "source": [
    "# Intermediate Dictionary Patterns"
   ]
  },
  {
   "cell_type": "code",
   "execution_count": 16,
   "id": "ec937051",
   "metadata": {},
   "outputs": [
    {
     "name": "stdout",
     "output_type": "stream",
     "text": [
      "{'a': 1, 'b': 2, 'c': 3}\n"
     ]
    }
   ],
   "source": [
    "# 16. Create dict from two lists\n",
    "keys = ['a', 'b', 'c']\n",
    "values = [1, 2, 3]\n",
    "d = dict(zip(keys, values))\n",
    "print(d)\n"
   ]
  },
  {
   "cell_type": "code",
   "execution_count": 17,
   "id": "9568377d",
   "metadata": {},
   "outputs": [
    {
     "name": "stdout",
     "output_type": "stream",
     "text": [
      "{'b': 1, 'c': 2, 'a': 3}\n"
     ]
    }
   ],
   "source": [
    "# 17. Sort dictionary by values\n",
    "d = {'a': 3, 'b': 1, 'c': 2}\n",
    "sorted_d = dict(sorted(d.items(), key=lambda x: x[1]))\n",
    "print(sorted_d)\n"
   ]
  },
  {
   "cell_type": "code",
   "execution_count": 18,
   "id": "1035c1cd",
   "metadata": {},
   "outputs": [
    {
     "name": "stdout",
     "output_type": "stream",
     "text": [
      "b\n"
     ]
    }
   ],
   "source": [
    "#18. Find key with maximum value\n",
    "d = {'a': 10, 'b': 20}\n",
    "print(max(d, key=d.get))  # 'b'\n"
   ]
  },
  {
   "cell_type": "code",
   "execution_count": 19,
   "id": "a711a40d",
   "metadata": {},
   "outputs": [
    {
     "name": "stdout",
     "output_type": "stream",
     "text": [
      "{'a': 1}\n"
     ]
    }
   ],
   "source": [
    "#19. Remove all keys with None values\n",
    "d = {'a': 1, 'b': None}\n",
    "print({k: v for k, v in d.items() if v is not None})\n",
    "\n"
   ]
  },
  {
   "cell_type": "code",
   "execution_count": 20,
   "id": "10d734b9",
   "metadata": {},
   "outputs": [
    {
     "name": "stdout",
     "output_type": "stream",
     "text": [
      "{1: 'x', 2: 'y'}\n"
     ]
    }
   ],
   "source": [
    "#20. Reverse a dictionary with unique values\n",
    "d = {'x': 1, 'y': 2}\n",
    "reversed_d = {v: k for k, v in d.items()}\n",
    "print(reversed_d)\n"
   ]
  },
  {
   "cell_type": "code",
   "execution_count": 21,
   "id": "74ed8078",
   "metadata": {},
   "outputs": [
    {
     "name": "stdout",
     "output_type": "stream",
     "text": [
      "{'1': 2, '2': 2, '3': 2}\n"
     ]
    }
   ],
   "source": [
    "#21. Find frequency of digits in a number\n",
    "num = 112233\n",
    "freq = {}\n",
    "for d in str(num):\n",
    "    freq[d] = freq.get(d, 0) + 1\n",
    "print(freq)\n"
   ]
  },
  {
   "cell_type": "code",
   "execution_count": 22,
   "id": "08e16ca7",
   "metadata": {},
   "outputs": [
    {
     "name": "stdout",
     "output_type": "stream",
     "text": [
      "['b']\n"
     ]
    }
   ],
   "source": [
    "#22. Find common keys in two dictionaries\n",
    "d1 = {'a': 1, 'b': 2}\n",
    "d2 = {'b': 3, 'c': 4}\n",
    "print([k for k in d1 if k in d2])\n",
    "\n"
   ]
  },
  {
   "cell_type": "code",
   "execution_count": 23,
   "id": "ae19ddaf",
   "metadata": {},
   "outputs": [
    {
     "name": "stdout",
     "output_type": "stream",
     "text": [
      "{'a': 2, 'b': 3}\n"
     ]
    }
   ],
   "source": [
    "#23. Increment values using dictionary comprehension\n",
    "d = {'a': 1, 'b': 2}\n",
    "print({k: v + 1 for k, v in d.items()})\n"
   ]
  },
  {
   "cell_type": "code",
   "execution_count": 24,
   "id": "5224cbeb",
   "metadata": {},
   "outputs": [
    {
     "name": "stdout",
     "output_type": "stream",
     "text": [
      "30\n"
     ]
    }
   ],
   "source": [
    "#24. Get sum of all values\n",
    "d = {'a': 10, 'b': 20}\n",
    "print(sum(d.values()))\n",
    "\n"
   ]
  },
  {
   "cell_type": "code",
   "execution_count": 25,
   "id": "7a41dd70",
   "metadata": {},
   "outputs": [
    {
     "name": "stdout",
     "output_type": "stream",
     "text": [
      "{'b': 4}\n"
     ]
    }
   ],
   "source": [
    "#25. Filter keys with even values\n",
    "d = {'a': 1, 'b': 4, 'c': 3}\n",
    "print({k: v for k, v in d.items() if v % 2 == 0})\n",
    "\n"
   ]
  },
  {
   "cell_type": "markdown",
   "id": "e4b55784",
   "metadata": {},
   "source": [
    "#  Advanced Dictionary Use"
   ]
  },
  {
   "cell_type": "code",
   "execution_count": 26,
   "id": "fbd6c24d",
   "metadata": {},
   "outputs": [
    {
     "name": "stdout",
     "output_type": "stream",
     "text": [
      "{'a': ['apple', 'apricot'], 'b': ['banana', 'blueberry']}\n"
     ]
    }
   ],
   "source": [
    "#26. Group words by their first letter\n",
    "words = ['apple', 'banana', 'apricot', 'blueberry']\n",
    "grouped = {}\n",
    "for word in words:\n",
    "    key = word[0]\n",
    "    grouped.setdefault(key, []).append(word)\n",
    "print(grouped)\n"
   ]
  },
  {
   "cell_type": "code",
   "execution_count": 27,
   "id": "c69d6612",
   "metadata": {},
   "outputs": [
    {
     "name": "stdout",
     "output_type": "stream",
     "text": [
      "b\n"
     ]
    }
   ],
   "source": [
    "#27. Find key with minimum value\n",
    "d = {'a': 10, 'b': 5}\n",
    "print(min(d, key=d.get))  \n"
   ]
  },
  {
   "cell_type": "code",
   "execution_count": 28,
   "id": "3a891a3b",
   "metadata": {},
   "outputs": [
    {
     "name": "stdout",
     "output_type": "stream",
     "text": [
      "{'apple': 20, 'banana': 3}\n"
     ]
    }
   ],
   "source": [
    "#28. Multiply values if key starts with 'a'\n",
    "d = {'apple': 2, 'banana': 3}\n",
    "print({k: v*10 if k.startswith('a') else v for k, v in d.items()})\n"
   ]
  },
  {
   "cell_type": "code",
   "execution_count": 30,
   "id": "2769b946",
   "metadata": {},
   "outputs": [
    {
     "name": "stdout",
     "output_type": "stream",
     "text": [
      "{1: 2, 2: 2, 3: 1}\n"
     ]
    }
   ],
   "source": [
    "#29. Create frequency dict from list\n",
    "lst = [1, 2, 2, 3, 1]\n",
    "freq = {}\n",
    "for i in lst:\n",
    "    freq[i] = freq.get(i, 0) + 1\n",
    "print(freq)\n"
   ]
  },
  {
   "cell_type": "code",
   "execution_count": 31,
   "id": "74443b49",
   "metadata": {},
   "outputs": [
    {
     "name": "stdout",
     "output_type": "stream",
     "text": [
      "Alice\n"
     ]
    }
   ],
   "source": [
    "#30. Create nested dictionary\n",
    "nested = {\n",
    "    'emp1': {'name': 'Alice', 'age': 30},\n",
    "    'emp2': {'name': 'Bob', 'age': 25}\n",
    "}\n",
    "print(nested['emp1']['name'])\n"
   ]
  },
  {
   "cell_type": "code",
   "execution_count": 32,
   "id": "b023d428",
   "metadata": {},
   "outputs": [
    {
     "name": "stdout",
     "output_type": "stream",
     "text": [
      "{'science': 1, 'data': 2}\n"
     ]
    }
   ],
   "source": [
    "#31.  Write a code that takes a list of words as input and returns a dictionary where the keys are unique words \n",
    "#and the values are the frequencies of those words in the input list\n",
    "def word_frequency(words):\n",
    "    return {w: words.count(w) for w in set(words)}\n",
    "\n",
    "print(word_frequency([\"data\",\"science\",\"data\"]))  "
   ]
  },
  {
   "cell_type": "code",
   "execution_count": 33,
   "id": "1c9a696c",
   "metadata": {},
   "outputs": [
    {
     "name": "stdout",
     "output_type": "stream",
     "text": [
      "{'a': 2, 'b': 7, 'c': 5}\n"
     ]
    }
   ],
   "source": [
    "#32. Write a code that takes two dictionaries as input and merges them into a single dictionary. If there are \n",
    "#common keys, the values should be added together\n",
    "def merge_dicts(d1, d2):\n",
    "    res = d1.copy()\n",
    "    for k, v in d2.items():\n",
    "        res[k] = res.get(k, 0) + v\n",
    "    return res\n",
    "\n",
    "print(merge_dicts({'a': 2, 'b': 3}, {'b': 4, 'c': 5}))"
   ]
  },
  {
   "cell_type": "code",
   "execution_count": 34,
   "id": "b765023d",
   "metadata": {},
   "outputs": [
    {
     "name": "stdout",
     "output_type": "stream",
     "text": [
      "5\n"
     ]
    }
   ],
   "source": [
    "#33. Write a code to access a value in a nested dictionary. The function should take the dictionary and a list of \n",
    "#keys as input, and return the corresponding value. If any of the keys do not exist in the dictionary, the \n",
    "#function should return None\n",
    "def access_nested(d, keys):\n",
    "    for k in keys:\n",
    "        d = d.get(k)\n",
    "        if d is None:\n",
    "            return None\n",
    "    return d\n",
    "\n",
    "nested = {'a': {'b': {'c': 5}}}\n",
    "print(access_nested(nested, ['a','b','c']))  \n"
   ]
  },
  {
   "cell_type": "code",
   "execution_count": 35,
   "id": "14707a18",
   "metadata": {},
   "outputs": [
    {
     "name": "stdout",
     "output_type": "stream",
     "text": [
      "{'b': 1, 'c': 2, 'a': 3}\n"
     ]
    }
   ],
   "source": [
    "#34.  Write a code that takes a dictionary as input and returns a sorted version of it based on the values. You \n",
    "#can choose whether to sort in ascending or descending order\n",
    "def sort_dict(d, reverse=False):\n",
    "    return dict(sorted(d.items(), key=lambda x: x[1], reverse=reverse))\n",
    "\n",
    "print(sort_dict({'a':3,'b':1,'c':2}))  "
   ]
  },
  {
   "cell_type": "code",
   "execution_count": 36,
   "id": "5b4da0da",
   "metadata": {},
   "outputs": [
    {
     "name": "stdout",
     "output_type": "stream",
     "text": [
      "{1: ['a', 'c'], 2: ['b']}\n"
     ]
    }
   ],
   "source": [
    "#35. Write a code that inverts a dictionary, swapping keys and values. Ensure that the inverted dictionary \n",
    "#correctly handles cases where multiple keys have the same value by storing the keys as a list in the \n",
    "#inverted dictionary.\n",
    "def invert_dict(d):\n",
    "    inv = {}\n",
    "    for k, v in d.items():\n",
    "        inv.setdefault(v, []).append(k)\n",
    "    return inv\n",
    "\n",
    "print(invert_dict({'a': 1, 'b': 2, 'c': 1}))  \n"
   ]
  },
  {
   "cell_type": "code",
   "execution_count": null,
   "id": "1a212dbb",
   "metadata": {},
   "outputs": [],
   "source": []
  }
 ],
 "metadata": {
  "kernelspec": {
   "display_name": "Python 3",
   "language": "python",
   "name": "python3"
  },
  "language_info": {
   "codemirror_mode": {
    "name": "ipython",
    "version": 3
   },
   "file_extension": ".py",
   "mimetype": "text/x-python",
   "name": "python",
   "nbconvert_exporter": "python",
   "pygments_lexer": "ipython3",
   "version": "3.12.2"
  }
 },
 "nbformat": 4,
 "nbformat_minor": 5
}
